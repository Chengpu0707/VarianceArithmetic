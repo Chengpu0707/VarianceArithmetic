{
 "cells": [
  {
   "cell_type": "code",
   "execution_count": 2,
   "id": "2b9338fd",
   "metadata": {},
   "outputs": [],
   "source": [
    "import math\n",
    "import matplotlib.pyplot as plt\n",
    "import numpy as np\n",
    "import pandas as pd"
   ]
  },
  {
   "cell_type": "code",
   "execution_count": 3,
   "id": "7f867f94",
   "metadata": {},
   "outputs": [
    {
     "name": "stdout",
     "output_type": "stream",
     "text": [
      "C:\\Users\\Cheng\\OneDrive\\Documents\\Proj\\VarianceArithemtic\\IPyNb\n"
     ]
    }
   ],
   "source": [
    "import os\n",
    "print(os.getcwd())"
   ]
  },
  {
   "cell_type": "code",
   "execution_count": 4,
   "id": "724a52a1",
   "metadata": {},
   "outputs": [
    {
     "data": {
      "text/html": [
       "<div>\n",
       "<style scoped>\n",
       "    .dataframe tbody tr th:only-of-type {\n",
       "        vertical-align: middle;\n",
       "    }\n",
       "\n",
       "    .dataframe tbody tr th {\n",
       "        vertical-align: top;\n",
       "    }\n",
       "\n",
       "    .dataframe thead th {\n",
       "        text-align: right;\n",
       "    }\n",
       "</style>\n",
       "<table border=\"1\" class=\"dataframe\">\n",
       "  <thead>\n",
       "    <tr style=\"text-align: right;\">\n",
       "      <th></th>\n",
       "      <th>Freq</th>\n",
       "      <th>IndexSin Error</th>\n",
       "      <th>IndexSin Uncertainty</th>\n",
       "      <th>LibSin Error</th>\n",
       "      <th>LibSin Uncertainty</th>\n",
       "    </tr>\n",
       "  </thead>\n",
       "  <tbody>\n",
       "    <tr>\n",
       "      <th>0</th>\n",
       "      <td>1</td>\n",
       "      <td>-1.110223e-16</td>\n",
       "      <td>1.281975e-16</td>\n",
       "      <td>-1.110223e-16</td>\n",
       "      <td>1.281975e-16</td>\n",
       "    </tr>\n",
       "    <tr>\n",
       "      <th>1</th>\n",
       "      <td>2</td>\n",
       "      <td>0.000000e+00</td>\n",
       "      <td>1.281975e-16</td>\n",
       "      <td>0.000000e+00</td>\n",
       "      <td>1.281975e-16</td>\n",
       "    </tr>\n",
       "    <tr>\n",
       "      <th>2</th>\n",
       "      <td>3</td>\n",
       "      <td>0.000000e+00</td>\n",
       "      <td>1.281975e-16</td>\n",
       "      <td>0.000000e+00</td>\n",
       "      <td>1.281975e-16</td>\n",
       "    </tr>\n",
       "    <tr>\n",
       "      <th>3</th>\n",
       "      <td>4</td>\n",
       "      <td>0.000000e+00</td>\n",
       "      <td>1.281975e-16</td>\n",
       "      <td>0.000000e+00</td>\n",
       "      <td>1.281975e-16</td>\n",
       "    </tr>\n",
       "    <tr>\n",
       "      <th>4</th>\n",
       "      <td>5</td>\n",
       "      <td>0.000000e+00</td>\n",
       "      <td>1.281975e-16</td>\n",
       "      <td>0.000000e+00</td>\n",
       "      <td>1.281975e-16</td>\n",
       "    </tr>\n",
       "  </tbody>\n",
       "</table>\n",
       "</div>"
      ],
      "text/plain": [
       "   Freq  IndexSin Error  IndexSin Uncertainty  LibSin Error  \\\n",
       "0     1   -1.110223e-16          1.281975e-16 -1.110223e-16   \n",
       "1     2    0.000000e+00          1.281975e-16  0.000000e+00   \n",
       "2     3    0.000000e+00          1.281975e-16  0.000000e+00   \n",
       "3     4    0.000000e+00          1.281975e-16  0.000000e+00   \n",
       "4     5    0.000000e+00          1.281975e-16  0.000000e+00   \n",
       "\n",
       "   LibSin Uncertainty  \n",
       "0        1.281975e-16  \n",
       "1        1.281975e-16  \n",
       "2        1.281975e-16  \n",
       "3        1.281975e-16  \n",
       "4        1.281975e-16  "
      ]
     },
     "execution_count": 4,
     "metadata": {},
     "output_type": "execute_result"
    }
   ],
   "source": [
    "df = pd.read_csv(\"../Python/Output/SinError_17.txt\", sep='\\t')\n",
    "df.head()"
   ]
  },
  {
   "cell_type": "code",
   "execution_count": 5,
   "id": "b4b4f542",
   "metadata": {},
   "outputs": [
    {
     "data": {
      "text/html": [
       "<div>\n",
       "<style scoped>\n",
       "    .dataframe tbody tr th:only-of-type {\n",
       "        vertical-align: middle;\n",
       "    }\n",
       "\n",
       "    .dataframe tbody tr th {\n",
       "        vertical-align: top;\n",
       "    }\n",
       "\n",
       "    .dataframe thead th {\n",
       "        text-align: right;\n",
       "    }\n",
       "</style>\n",
       "<table border=\"1\" class=\"dataframe\">\n",
       "  <thead>\n",
       "    <tr style=\"text-align: right;\">\n",
       "      <th></th>\n",
       "      <th>IndexSin Error</th>\n",
       "      <th>IndexSin Uncertainty</th>\n",
       "      <th>LibSin Error</th>\n",
       "      <th>LibSin Uncertainty</th>\n",
       "    </tr>\n",
       "    <tr>\n",
       "      <th>Freq</th>\n",
       "      <th></th>\n",
       "      <th></th>\n",
       "      <th></th>\n",
       "      <th></th>\n",
       "    </tr>\n",
       "  </thead>\n",
       "  <tbody>\n",
       "    <tr>\n",
       "      <th>1</th>\n",
       "      <td>-1.110223e-16</td>\n",
       "      <td>1.281975e-16</td>\n",
       "      <td>-1.110223e-16</td>\n",
       "      <td>1.281975e-16</td>\n",
       "    </tr>\n",
       "    <tr>\n",
       "      <th>2</th>\n",
       "      <td>0.000000e+00</td>\n",
       "      <td>1.281975e-16</td>\n",
       "      <td>0.000000e+00</td>\n",
       "      <td>1.281975e-16</td>\n",
       "    </tr>\n",
       "    <tr>\n",
       "      <th>3</th>\n",
       "      <td>0.000000e+00</td>\n",
       "      <td>1.281975e-16</td>\n",
       "      <td>0.000000e+00</td>\n",
       "      <td>1.281975e-16</td>\n",
       "    </tr>\n",
       "    <tr>\n",
       "      <th>4</th>\n",
       "      <td>0.000000e+00</td>\n",
       "      <td>1.281975e-16</td>\n",
       "      <td>0.000000e+00</td>\n",
       "      <td>1.281975e-16</td>\n",
       "    </tr>\n",
       "    <tr>\n",
       "      <th>5</th>\n",
       "      <td>0.000000e+00</td>\n",
       "      <td>1.281975e-16</td>\n",
       "      <td>0.000000e+00</td>\n",
       "      <td>1.281975e-16</td>\n",
       "    </tr>\n",
       "    <tr>\n",
       "      <th>...</th>\n",
       "      <td>...</td>\n",
       "      <td>...</td>\n",
       "      <td>...</td>\n",
       "      <td>...</td>\n",
       "    </tr>\n",
       "    <tr>\n",
       "      <th>131067</th>\n",
       "      <td>0.000000e+00</td>\n",
       "      <td>1.281975e-16</td>\n",
       "      <td>0.000000e+00</td>\n",
       "      <td>1.281975e-16</td>\n",
       "    </tr>\n",
       "    <tr>\n",
       "      <th>131068</th>\n",
       "      <td>0.000000e+00</td>\n",
       "      <td>1.281975e-16</td>\n",
       "      <td>0.000000e+00</td>\n",
       "      <td>1.281975e-16</td>\n",
       "    </tr>\n",
       "    <tr>\n",
       "      <th>131069</th>\n",
       "      <td>0.000000e+00</td>\n",
       "      <td>1.281975e-16</td>\n",
       "      <td>0.000000e+00</td>\n",
       "      <td>1.281975e-16</td>\n",
       "    </tr>\n",
       "    <tr>\n",
       "      <th>131070</th>\n",
       "      <td>0.000000e+00</td>\n",
       "      <td>1.281975e-16</td>\n",
       "      <td>0.000000e+00</td>\n",
       "      <td>1.281975e-16</td>\n",
       "    </tr>\n",
       "    <tr>\n",
       "      <th>131071</th>\n",
       "      <td>-1.110223e-16</td>\n",
       "      <td>1.281975e-16</td>\n",
       "      <td>-1.110223e-16</td>\n",
       "      <td>1.281975e-16</td>\n",
       "    </tr>\n",
       "  </tbody>\n",
       "</table>\n",
       "<p>131071 rows × 4 columns</p>\n",
       "</div>"
      ],
      "text/plain": [
       "        IndexSin Error  IndexSin Uncertainty  LibSin Error  LibSin Uncertainty\n",
       "Freq                                                                          \n",
       "1        -1.110223e-16          1.281975e-16 -1.110223e-16        1.281975e-16\n",
       "2         0.000000e+00          1.281975e-16  0.000000e+00        1.281975e-16\n",
       "3         0.000000e+00          1.281975e-16  0.000000e+00        1.281975e-16\n",
       "4         0.000000e+00          1.281975e-16  0.000000e+00        1.281975e-16\n",
       "5         0.000000e+00          1.281975e-16  0.000000e+00        1.281975e-16\n",
       "...                ...                   ...           ...                 ...\n",
       "131067    0.000000e+00          1.281975e-16  0.000000e+00        1.281975e-16\n",
       "131068    0.000000e+00          1.281975e-16  0.000000e+00        1.281975e-16\n",
       "131069    0.000000e+00          1.281975e-16  0.000000e+00        1.281975e-16\n",
       "131070    0.000000e+00          1.281975e-16  0.000000e+00        1.281975e-16\n",
       "131071   -1.110223e-16          1.281975e-16 -1.110223e-16        1.281975e-16\n",
       "\n",
       "[131071 rows x 4 columns]"
      ]
     },
     "execution_count": 5,
     "metadata": {},
     "output_type": "execute_result"
    }
   ],
   "source": [
    "df.set_index('Freq')"
   ]
  },
  {
   "cell_type": "code",
   "execution_count": 6,
   "id": "b95a6496",
   "metadata": {},
   "outputs": [
    {
     "data": {
      "text/html": [
       "<div>\n",
       "<style scoped>\n",
       "    .dataframe tbody tr th:only-of-type {\n",
       "        vertical-align: middle;\n",
       "    }\n",
       "\n",
       "    .dataframe tbody tr th {\n",
       "        vertical-align: top;\n",
       "    }\n",
       "\n",
       "    .dataframe thead th {\n",
       "        text-align: right;\n",
       "    }\n",
       "</style>\n",
       "<table border=\"1\" class=\"dataframe\">\n",
       "  <thead>\n",
       "    <tr style=\"text-align: right;\">\n",
       "      <th></th>\n",
       "      <th>Freq</th>\n",
       "      <th>IndexSin Error</th>\n",
       "      <th>IndexSin Uncertainty</th>\n",
       "      <th>LibSin Error</th>\n",
       "      <th>LibSin Uncertainty</th>\n",
       "      <th>IndexSin Norm</th>\n",
       "      <th>LibSin Norm</th>\n",
       "    </tr>\n",
       "  </thead>\n",
       "  <tbody>\n",
       "    <tr>\n",
       "      <th>0</th>\n",
       "      <td>1</td>\n",
       "      <td>-1.110223e-16</td>\n",
       "      <td>1.281975e-16</td>\n",
       "      <td>-1.110223e-16</td>\n",
       "      <td>1.281975e-16</td>\n",
       "      <td>-0.866025</td>\n",
       "      <td>-0.866025</td>\n",
       "    </tr>\n",
       "    <tr>\n",
       "      <th>1</th>\n",
       "      <td>2</td>\n",
       "      <td>0.000000e+00</td>\n",
       "      <td>1.281975e-16</td>\n",
       "      <td>0.000000e+00</td>\n",
       "      <td>1.281975e-16</td>\n",
       "      <td>0.000000</td>\n",
       "      <td>0.000000</td>\n",
       "    </tr>\n",
       "    <tr>\n",
       "      <th>2</th>\n",
       "      <td>3</td>\n",
       "      <td>0.000000e+00</td>\n",
       "      <td>1.281975e-16</td>\n",
       "      <td>0.000000e+00</td>\n",
       "      <td>1.281975e-16</td>\n",
       "      <td>0.000000</td>\n",
       "      <td>0.000000</td>\n",
       "    </tr>\n",
       "    <tr>\n",
       "      <th>3</th>\n",
       "      <td>4</td>\n",
       "      <td>0.000000e+00</td>\n",
       "      <td>1.281975e-16</td>\n",
       "      <td>0.000000e+00</td>\n",
       "      <td>1.281975e-16</td>\n",
       "      <td>0.000000</td>\n",
       "      <td>0.000000</td>\n",
       "    </tr>\n",
       "    <tr>\n",
       "      <th>4</th>\n",
       "      <td>5</td>\n",
       "      <td>0.000000e+00</td>\n",
       "      <td>1.281975e-16</td>\n",
       "      <td>0.000000e+00</td>\n",
       "      <td>1.281975e-16</td>\n",
       "      <td>0.000000</td>\n",
       "      <td>0.000000</td>\n",
       "    </tr>\n",
       "  </tbody>\n",
       "</table>\n",
       "</div>"
      ],
      "text/plain": [
       "   Freq  IndexSin Error  IndexSin Uncertainty  LibSin Error  \\\n",
       "0     1   -1.110223e-16          1.281975e-16 -1.110223e-16   \n",
       "1     2    0.000000e+00          1.281975e-16  0.000000e+00   \n",
       "2     3    0.000000e+00          1.281975e-16  0.000000e+00   \n",
       "3     4    0.000000e+00          1.281975e-16  0.000000e+00   \n",
       "4     5    0.000000e+00          1.281975e-16  0.000000e+00   \n",
       "\n",
       "   LibSin Uncertainty  IndexSin Norm  LibSin Norm  \n",
       "0        1.281975e-16      -0.866025    -0.866025  \n",
       "1        1.281975e-16       0.000000     0.000000  \n",
       "2        1.281975e-16       0.000000     0.000000  \n",
       "3        1.281975e-16       0.000000     0.000000  \n",
       "4        1.281975e-16       0.000000     0.000000  "
      ]
     },
     "execution_count": 6,
     "metadata": {},
     "output_type": "execute_result"
    }
   ],
   "source": [
    "df['IndexSin Norm'] = df['IndexSin Error'] / df['IndexSin Uncertainty']\n",
    "df['LibSin Norm'] = df['LibSin Error'] / df['LibSin Uncertainty']\n",
    "df.head()"
   ]
  },
  {
   "cell_type": "code",
   "execution_count": 7,
   "id": "c87011b0",
   "metadata": {},
   "outputs": [
    {
     "data": {
      "text/plain": [
       "<AxesSubplot:>"
      ]
     },
     "execution_count": 7,
     "metadata": {},
     "output_type": "execute_result"
    },
    {
     "data": {
      "image/png": "[encoded data removed]",
      "text/plain": [
       "<Figure size 640x480 with 1 Axes>"
      ]
     },
     "metadata": {},
     "output_type": "display_data"
    }
   ],
   "source": [
    "df[(df['Freq'] < 100)][['IndexSin Error', 'LibSin Error']].plot()"
   ]
  },
  {
   "cell_type": "code",
   "execution_count": 8,
   "id": "d23f7f0d",
   "metadata": {},
   "outputs": [
    {
     "data": {
      "text/plain": [
       "Freq                    26322\n",
       "IndexSin Error          26322\n",
       "IndexSin Uncertainty    26322\n",
       "LibSin Error            26322\n",
       "LibSin Uncertainty      26322\n",
       "IndexSin Norm           26322\n",
       "LibSin Norm             26322\n",
       "dtype: int64"
      ]
     },
     "execution_count": 8,
     "metadata": {},
     "output_type": "execute_result"
    }
   ],
   "source": [
    "df[(df['IndexSin Error']!=df['LibSin Error'])].count()"
   ]
  },
  {
   "cell_type": "code",
   "execution_count": 16,
   "id": "4a88fce5",
   "metadata": {},
   "outputs": [
    {
     "data": {
      "text/plain": [
       "array([[<AxesSubplot:title={'center':'IndexSin Norm'}>]], dtype=object)"
      ]
     },
     "execution_count": 16,
     "metadata": {},
     "output_type": "execute_result"
    },
    {
     "data": {
      "image/png": "[encoded data removed]",
      "text/plain": [
       "<Figure size 640x480 with 1 Axes>"
      ]
     },
     "metadata": {},
     "output_type": "display_data"
    }
   ],
   "source": [
    "df.hist(column='IndexSin Norm')"
   ]
  },
  {
   "cell_type": "code",
   "execution_count": 17,
   "id": "6c8a83a0",
   "metadata": {},
   "outputs": [
    {
     "data": {
      "text/plain": [
       "array([[<AxesSubplot:title={'center':'LibSin Norm'}>]], dtype=object)"
      ]
     },
     "execution_count": 17,
     "metadata": {},
     "output_type": "execute_result"
    },
    {
     "data": {
      "image/png": "[encoded data removed]",
      "text/plain": [
       "<Figure size 640x480 with 1 Axes>"
      ]
     },
     "metadata": {},
     "output_type": "display_data"
    }
   ],
   "source": [
    "df.hist(column='LibSin Norm')"
   ]
  },
  {
   "cell_type": "code",
   "execution_count": 14,
   "id": "40e81ea3",
   "metadata": {},
   "outputs": [
    {
     "data": {
      "text/plain": [
       "0.5354398739579629"
      ]
     },
     "execution_count": 14,
     "metadata": {},
     "output_type": "execute_result"
    }
   ],
   "source": [
    "df['LibSin Norm'].std()"
   ]
  },
  {
   "cell_type": "code",
   "execution_count": 18,
   "id": "8ea123ef",
   "metadata": {},
   "outputs": [
    {
     "data": {
      "text/plain": [
       "-0.11881021804554472"
      ]
     },
     "execution_count": 18,
     "metadata": {},
     "output_type": "execute_result"
    }
   ],
   "source": [
    "df['LibSin Norm'].mean()"
   ]
  },
  {
   "cell_type": "code",
   "execution_count": 19,
   "id": "96503d45",
   "metadata": {},
   "outputs": [
    {
     "data": {
      "text/plain": [
       "0.548463058497242"
      ]
     },
     "execution_count": 19,
     "metadata": {},
     "output_type": "execute_result"
    }
   ],
   "source": [
    "math.sqrt(df['LibSin Norm'].std()**2 + df['LibSin Norm'].mean()**2)"
   ]
  },
  {
   "cell_type": "code",
   "execution_count": null,
   "id": "c0b51df1",
   "metadata": {},
   "outputs": [],
   "source": []
  }
 ],
 "metadata": {
  "kernelspec": {
   "display_name": "Python 3 (ipykernel)",
   "language": "python",
   "name": "python3"
  },
  "language_info": {
   "codemirror_mode": {
    "name": "ipython",
    "version": 3
   },
   "file_extension": ".py",
   "mimetype": "text/x-python",
   "name": "python",
   "nbconvert_exporter": "python",
   "pygments_lexer": "ipython3",
   "version": "3.9.13"
  }
 },
 "nbformat": 4,
 "nbformat_minor": 5
}
